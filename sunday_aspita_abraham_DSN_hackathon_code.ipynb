{
  "nbformat": 4,
  "nbformat_minor": 0,
  "metadata": {
    "colab": {
      "provenance": []
    },
    "kernelspec": {
      "name": "python3",
      "display_name": "Python 3"
    },
    "language_info": {
      "name": "python"
    }
  },
  "cells": [
    {
      "cell_type": "markdown",
      "source": [
        "#  Competition Notebook: Car Price Prediction with CatBoost + Optuna\n",
        "\n",
        "\n",
        "#  Setup & Imports\n",
        "\n",
        "# Install necessary libraries\n"
      ],
      "metadata": {
        "id": "szxRjvcdwqAy"
      }
    },
    {
      "cell_type": "code",
      "source": [
        "!pip install -q catboost optuna\n",
        "\n",
        "import numpy as np\n",
        "import pandas as pd\n",
        "import matplotlib.pyplot as plt\n",
        "import seaborn as sns\n",
        "from sklearn.model_selection import train_test_split\n",
        "from sklearn.metrics import mean_squared_error\n",
        "from catboost import CatBoostRegressor, Pool, cv\n",
        "import optuna\n",
        "from google.colab import files\n",
        "import re\n"
      ],
      "metadata": {
        "colab": {
          "base_uri": "https://localhost:8080/"
        },
        "id": "QhisGbyPwd1b",
        "outputId": "1cb2cc26-a789-4920-a2f5-ea231e45600b"
      },
      "execution_count": 5,
      "outputs": [
        {
          "output_type": "stream",
          "name": "stdout",
          "text": [
            "\u001b[2K   \u001b[90m━━━━━━━━━━━━━━━━━━━━━━━━━━━━━━━━━━━━━━━━\u001b[0m \u001b[32m99.2/99.2 MB\u001b[0m \u001b[31m8.8 MB/s\u001b[0m eta \u001b[36m0:00:00\u001b[0m\n",
            "\u001b[2K   \u001b[90m━━━━━━━━━━━━━━━━━━━━━━━━━━━━━━━━━━━━━━━━\u001b[0m \u001b[32m400.9/400.9 kB\u001b[0m \u001b[31m29.3 MB/s\u001b[0m eta \u001b[36m0:00:00\u001b[0m\n",
            "\u001b[?25h"
          ]
        }
      ]
    },
    {
      "cell_type": "markdown",
      "source": [
        "\n",
        "# Load Data\n",
        "\n"
      ],
      "metadata": {
        "id": "doqa993fyHec"
      }
    },
    {
      "cell_type": "code",
      "source": [
        "# Upload files\n",
        "print(\"Please upload train.csv, test.csv, and sample_submission.csv\")\n",
        "uploaded = files.upload()"
      ],
      "metadata": {
        "colab": {
          "base_uri": "https://localhost:8080/",
          "height": 160
        },
        "id": "bZJKXUop2NQD",
        "outputId": "29eb895c-a598-4581-8582-e06b4863f38a"
      },
      "execution_count": 7,
      "outputs": [
        {
          "output_type": "stream",
          "name": "stdout",
          "text": [
            "Please upload train.csv, test.csv, and sample_submission.csv\n"
          ]
        },
        {
          "output_type": "display_data",
          "data": {
            "text/plain": [
              "<IPython.core.display.HTML object>"
            ],
            "text/html": [
              "\n",
              "     <input type=\"file\" id=\"files-67fe97a8-8f5e-4ec3-b0ed-f1b7b2d87cb3\" name=\"files[]\" multiple disabled\n",
              "        style=\"border:none\" />\n",
              "     <output id=\"result-67fe97a8-8f5e-4ec3-b0ed-f1b7b2d87cb3\">\n",
              "      Upload widget is only available when the cell has been executed in the\n",
              "      current browser session. Please rerun this cell to enable.\n",
              "      </output>\n",
              "      <script>// Copyright 2017 Google LLC\n",
              "//\n",
              "// Licensed under the Apache License, Version 2.0 (the \"License\");\n",
              "// you may not use this file except in compliance with the License.\n",
              "// You may obtain a copy of the License at\n",
              "//\n",
              "//      http://www.apache.org/licenses/LICENSE-2.0\n",
              "//\n",
              "// Unless required by applicable law or agreed to in writing, software\n",
              "// distributed under the License is distributed on an \"AS IS\" BASIS,\n",
              "// WITHOUT WARRANTIES OR CONDITIONS OF ANY KIND, either express or implied.\n",
              "// See the License for the specific language governing permissions and\n",
              "// limitations under the License.\n",
              "\n",
              "/**\n",
              " * @fileoverview Helpers for google.colab Python module.\n",
              " */\n",
              "(function(scope) {\n",
              "function span(text, styleAttributes = {}) {\n",
              "  const element = document.createElement('span');\n",
              "  element.textContent = text;\n",
              "  for (const key of Object.keys(styleAttributes)) {\n",
              "    element.style[key] = styleAttributes[key];\n",
              "  }\n",
              "  return element;\n",
              "}\n",
              "\n",
              "// Max number of bytes which will be uploaded at a time.\n",
              "const MAX_PAYLOAD_SIZE = 100 * 1024;\n",
              "\n",
              "function _uploadFiles(inputId, outputId) {\n",
              "  const steps = uploadFilesStep(inputId, outputId);\n",
              "  const outputElement = document.getElementById(outputId);\n",
              "  // Cache steps on the outputElement to make it available for the next call\n",
              "  // to uploadFilesContinue from Python.\n",
              "  outputElement.steps = steps;\n",
              "\n",
              "  return _uploadFilesContinue(outputId);\n",
              "}\n",
              "\n",
              "// This is roughly an async generator (not supported in the browser yet),\n",
              "// where there are multiple asynchronous steps and the Python side is going\n",
              "// to poll for completion of each step.\n",
              "// This uses a Promise to block the python side on completion of each step,\n",
              "// then passes the result of the previous step as the input to the next step.\n",
              "function _uploadFilesContinue(outputId) {\n",
              "  const outputElement = document.getElementById(outputId);\n",
              "  const steps = outputElement.steps;\n",
              "\n",
              "  const next = steps.next(outputElement.lastPromiseValue);\n",
              "  return Promise.resolve(next.value.promise).then((value) => {\n",
              "    // Cache the last promise value to make it available to the next\n",
              "    // step of the generator.\n",
              "    outputElement.lastPromiseValue = value;\n",
              "    return next.value.response;\n",
              "  });\n",
              "}\n",
              "\n",
              "/**\n",
              " * Generator function which is called between each async step of the upload\n",
              " * process.\n",
              " * @param {string} inputId Element ID of the input file picker element.\n",
              " * @param {string} outputId Element ID of the output display.\n",
              " * @return {!Iterable<!Object>} Iterable of next steps.\n",
              " */\n",
              "function* uploadFilesStep(inputId, outputId) {\n",
              "  const inputElement = document.getElementById(inputId);\n",
              "  inputElement.disabled = false;\n",
              "\n",
              "  const outputElement = document.getElementById(outputId);\n",
              "  outputElement.innerHTML = '';\n",
              "\n",
              "  const pickedPromise = new Promise((resolve) => {\n",
              "    inputElement.addEventListener('change', (e) => {\n",
              "      resolve(e.target.files);\n",
              "    });\n",
              "  });\n",
              "\n",
              "  const cancel = document.createElement('button');\n",
              "  inputElement.parentElement.appendChild(cancel);\n",
              "  cancel.textContent = 'Cancel upload';\n",
              "  const cancelPromise = new Promise((resolve) => {\n",
              "    cancel.onclick = () => {\n",
              "      resolve(null);\n",
              "    };\n",
              "  });\n",
              "\n",
              "  // Wait for the user to pick the files.\n",
              "  const files = yield {\n",
              "    promise: Promise.race([pickedPromise, cancelPromise]),\n",
              "    response: {\n",
              "      action: 'starting',\n",
              "    }\n",
              "  };\n",
              "\n",
              "  cancel.remove();\n",
              "\n",
              "  // Disable the input element since further picks are not allowed.\n",
              "  inputElement.disabled = true;\n",
              "\n",
              "  if (!files) {\n",
              "    return {\n",
              "      response: {\n",
              "        action: 'complete',\n",
              "      }\n",
              "    };\n",
              "  }\n",
              "\n",
              "  for (const file of files) {\n",
              "    const li = document.createElement('li');\n",
              "    li.append(span(file.name, {fontWeight: 'bold'}));\n",
              "    li.append(span(\n",
              "        `(${file.type || 'n/a'}) - ${file.size} bytes, ` +\n",
              "        `last modified: ${\n",
              "            file.lastModifiedDate ? file.lastModifiedDate.toLocaleDateString() :\n",
              "                                    'n/a'} - `));\n",
              "    const percent = span('0% done');\n",
              "    li.appendChild(percent);\n",
              "\n",
              "    outputElement.appendChild(li);\n",
              "\n",
              "    const fileDataPromise = new Promise((resolve) => {\n",
              "      const reader = new FileReader();\n",
              "      reader.onload = (e) => {\n",
              "        resolve(e.target.result);\n",
              "      };\n",
              "      reader.readAsArrayBuffer(file);\n",
              "    });\n",
              "    // Wait for the data to be ready.\n",
              "    let fileData = yield {\n",
              "      promise: fileDataPromise,\n",
              "      response: {\n",
              "        action: 'continue',\n",
              "      }\n",
              "    };\n",
              "\n",
              "    // Use a chunked sending to avoid message size limits. See b/62115660.\n",
              "    let position = 0;\n",
              "    do {\n",
              "      const length = Math.min(fileData.byteLength - position, MAX_PAYLOAD_SIZE);\n",
              "      const chunk = new Uint8Array(fileData, position, length);\n",
              "      position += length;\n",
              "\n",
              "      const base64 = btoa(String.fromCharCode.apply(null, chunk));\n",
              "      yield {\n",
              "        response: {\n",
              "          action: 'append',\n",
              "          file: file.name,\n",
              "          data: base64,\n",
              "        },\n",
              "      };\n",
              "\n",
              "      let percentDone = fileData.byteLength === 0 ?\n",
              "          100 :\n",
              "          Math.round((position / fileData.byteLength) * 100);\n",
              "      percent.textContent = `${percentDone}% done`;\n",
              "\n",
              "    } while (position < fileData.byteLength);\n",
              "  }\n",
              "\n",
              "  // All done.\n",
              "  yield {\n",
              "    response: {\n",
              "      action: 'complete',\n",
              "    }\n",
              "  };\n",
              "}\n",
              "\n",
              "scope.google = scope.google || {};\n",
              "scope.google.colab = scope.google.colab || {};\n",
              "scope.google.colab._files = {\n",
              "  _uploadFiles,\n",
              "  _uploadFilesContinue,\n",
              "};\n",
              "})(self);\n",
              "</script> "
            ]
          },
          "metadata": {}
        },
        {
          "output_type": "stream",
          "name": "stdout",
          "text": [
            "Saving test.csv to test.csv\n",
            "Saving train.csv to train.csv\n",
            "Saving sample_submission.csv to sample_submission.csv\n"
          ]
        }
      ]
    },
    {
      "cell_type": "code",
      "source": [
        "train = pd.read_csv('train.csv')\n",
        "test = pd.read_csv('test.csv')\n",
        "submission = pd.read_csv('sample_submission.csv')\n",
        "\n",
        "print(\"Train shape:\", train.shape)\n",
        "print(\"Test shape:\", test.shape)\n"
      ],
      "metadata": {
        "colab": {
          "base_uri": "https://localhost:8080/"
        },
        "id": "T-cuRcFiyUSV",
        "outputId": "8fd3ed67-1286-40c0-e976-d0276854d106"
      },
      "execution_count": 8,
      "outputs": [
        {
          "output_type": "stream",
          "name": "stdout",
          "text": [
            "Train shape: (188533, 13)\n",
            "Test shape: (125690, 12)\n"
          ]
        }
      ]
    },
    {
      "cell_type": "markdown",
      "source": [
        "\n",
        "\n",
        "#  Exploratory Data Analysis (EDA)\n",
        "\n"
      ],
      "metadata": {
        "id": "_dlDkkwzyiyq"
      }
    },
    {
      "cell_type": "code",
      "source": [
        "\n",
        "## 3.1 Data overview\n",
        "display(train.head())\n",
        "train.info()\n",
        "\n",
        "\n"
      ],
      "metadata": {
        "colab": {
          "base_uri": "https://localhost:8080/",
          "height": 640
        },
        "id": "OvH199inyrKs",
        "outputId": "a5f15343-24a4-4c1a-d348-86b85009bfd4"
      },
      "execution_count": 9,
      "outputs": [
        {
          "output_type": "display_data",
          "data": {
            "text/plain": [
              "   id          brand              model  model_year  milage      fuel_type  \\\n",
              "0   0           MINI      Cooper S Base        2007  213000       Gasoline   \n",
              "1   1        Lincoln              LS V8        2002  143250       Gasoline   \n",
              "2   2      Chevrolet  Silverado 2500 LT        2002  136731  E85 Flex Fuel   \n",
              "3   3        Genesis   G90 5.0 Ultimate        2017   19500       Gasoline   \n",
              "4   4  Mercedes-Benz        Metris Base        2021    7388       Gasoline   \n",
              "\n",
              "                                              engine  \\\n",
              "0       172.0HP 1.6L 4 Cylinder Engine Gasoline Fuel   \n",
              "1       252.0HP 3.9L 8 Cylinder Engine Gasoline Fuel   \n",
              "2  320.0HP 5.3L 8 Cylinder Engine Flex Fuel Capab...   \n",
              "3       420.0HP 5.0L 8 Cylinder Engine Gasoline Fuel   \n",
              "4       208.0HP 2.0L 4 Cylinder Engine Gasoline Fuel   \n",
              "\n",
              "                     transmission ext_col int_col  \\\n",
              "0                             A/T  Yellow    Gray   \n",
              "1                             A/T  Silver   Beige   \n",
              "2                             A/T    Blue    Gray   \n",
              "3  Transmission w/Dual Shift Mode   Black   Black   \n",
              "4                     7-Speed A/T   Black   Beige   \n",
              "\n",
              "                                 accident clean_title  price  \n",
              "0                           None reported         Yes   4200  \n",
              "1  At least 1 accident or damage reported         Yes   4999  \n",
              "2                           None reported         Yes  13900  \n",
              "3                           None reported         Yes  45000  \n",
              "4                           None reported         Yes  97500  "
            ],
            "text/html": [
              "\n",
              "  <div id=\"df-4a2cbd3e-1a43-41d3-ab8d-001af7589176\" class=\"colab-df-container\">\n",
              "    <div>\n",
              "<style scoped>\n",
              "    .dataframe tbody tr th:only-of-type {\n",
              "        vertical-align: middle;\n",
              "    }\n",
              "\n",
              "    .dataframe tbody tr th {\n",
              "        vertical-align: top;\n",
              "    }\n",
              "\n",
              "    .dataframe thead th {\n",
              "        text-align: right;\n",
              "    }\n",
              "</style>\n",
              "<table border=\"1\" class=\"dataframe\">\n",
              "  <thead>\n",
              "    <tr style=\"text-align: right;\">\n",
              "      <th></th>\n",
              "      <th>id</th>\n",
              "      <th>brand</th>\n",
              "      <th>model</th>\n",
              "      <th>model_year</th>\n",
              "      <th>milage</th>\n",
              "      <th>fuel_type</th>\n",
              "      <th>engine</th>\n",
              "      <th>transmission</th>\n",
              "      <th>ext_col</th>\n",
              "      <th>int_col</th>\n",
              "      <th>accident</th>\n",
              "      <th>clean_title</th>\n",
              "      <th>price</th>\n",
              "    </tr>\n",
              "  </thead>\n",
              "  <tbody>\n",
              "    <tr>\n",
              "      <th>0</th>\n",
              "      <td>0</td>\n",
              "      <td>MINI</td>\n",
              "      <td>Cooper S Base</td>\n",
              "      <td>2007</td>\n",
              "      <td>213000</td>\n",
              "      <td>Gasoline</td>\n",
              "      <td>172.0HP 1.6L 4 Cylinder Engine Gasoline Fuel</td>\n",
              "      <td>A/T</td>\n",
              "      <td>Yellow</td>\n",
              "      <td>Gray</td>\n",
              "      <td>None reported</td>\n",
              "      <td>Yes</td>\n",
              "      <td>4200</td>\n",
              "    </tr>\n",
              "    <tr>\n",
              "      <th>1</th>\n",
              "      <td>1</td>\n",
              "      <td>Lincoln</td>\n",
              "      <td>LS V8</td>\n",
              "      <td>2002</td>\n",
              "      <td>143250</td>\n",
              "      <td>Gasoline</td>\n",
              "      <td>252.0HP 3.9L 8 Cylinder Engine Gasoline Fuel</td>\n",
              "      <td>A/T</td>\n",
              "      <td>Silver</td>\n",
              "      <td>Beige</td>\n",
              "      <td>At least 1 accident or damage reported</td>\n",
              "      <td>Yes</td>\n",
              "      <td>4999</td>\n",
              "    </tr>\n",
              "    <tr>\n",
              "      <th>2</th>\n",
              "      <td>2</td>\n",
              "      <td>Chevrolet</td>\n",
              "      <td>Silverado 2500 LT</td>\n",
              "      <td>2002</td>\n",
              "      <td>136731</td>\n",
              "      <td>E85 Flex Fuel</td>\n",
              "      <td>320.0HP 5.3L 8 Cylinder Engine Flex Fuel Capab...</td>\n",
              "      <td>A/T</td>\n",
              "      <td>Blue</td>\n",
              "      <td>Gray</td>\n",
              "      <td>None reported</td>\n",
              "      <td>Yes</td>\n",
              "      <td>13900</td>\n",
              "    </tr>\n",
              "    <tr>\n",
              "      <th>3</th>\n",
              "      <td>3</td>\n",
              "      <td>Genesis</td>\n",
              "      <td>G90 5.0 Ultimate</td>\n",
              "      <td>2017</td>\n",
              "      <td>19500</td>\n",
              "      <td>Gasoline</td>\n",
              "      <td>420.0HP 5.0L 8 Cylinder Engine Gasoline Fuel</td>\n",
              "      <td>Transmission w/Dual Shift Mode</td>\n",
              "      <td>Black</td>\n",
              "      <td>Black</td>\n",
              "      <td>None reported</td>\n",
              "      <td>Yes</td>\n",
              "      <td>45000</td>\n",
              "    </tr>\n",
              "    <tr>\n",
              "      <th>4</th>\n",
              "      <td>4</td>\n",
              "      <td>Mercedes-Benz</td>\n",
              "      <td>Metris Base</td>\n",
              "      <td>2021</td>\n",
              "      <td>7388</td>\n",
              "      <td>Gasoline</td>\n",
              "      <td>208.0HP 2.0L 4 Cylinder Engine Gasoline Fuel</td>\n",
              "      <td>7-Speed A/T</td>\n",
              "      <td>Black</td>\n",
              "      <td>Beige</td>\n",
              "      <td>None reported</td>\n",
              "      <td>Yes</td>\n",
              "      <td>97500</td>\n",
              "    </tr>\n",
              "  </tbody>\n",
              "</table>\n",
              "</div>\n",
              "    <div class=\"colab-df-buttons\">\n",
              "\n",
              "  <div class=\"colab-df-container\">\n",
              "    <button class=\"colab-df-convert\" onclick=\"convertToInteractive('df-4a2cbd3e-1a43-41d3-ab8d-001af7589176')\"\n",
              "            title=\"Convert this dataframe to an interactive table.\"\n",
              "            style=\"display:none;\">\n",
              "\n",
              "  <svg xmlns=\"http://www.w3.org/2000/svg\" height=\"24px\" viewBox=\"0 -960 960 960\">\n",
              "    <path d=\"M120-120v-720h720v720H120Zm60-500h600v-160H180v160Zm220 220h160v-160H400v160Zm0 220h160v-160H400v160ZM180-400h160v-160H180v160Zm440 0h160v-160H620v160ZM180-180h160v-160H180v160Zm440 0h160v-160H620v160Z\"/>\n",
              "  </svg>\n",
              "    </button>\n",
              "\n",
              "  <style>\n",
              "    .colab-df-container {\n",
              "      display:flex;\n",
              "      gap: 12px;\n",
              "    }\n",
              "\n",
              "    .colab-df-convert {\n",
              "      background-color: #E8F0FE;\n",
              "      border: none;\n",
              "      border-radius: 50%;\n",
              "      cursor: pointer;\n",
              "      display: none;\n",
              "      fill: #1967D2;\n",
              "      height: 32px;\n",
              "      padding: 0 0 0 0;\n",
              "      width: 32px;\n",
              "    }\n",
              "\n",
              "    .colab-df-convert:hover {\n",
              "      background-color: #E2EBFA;\n",
              "      box-shadow: 0px 1px 2px rgba(60, 64, 67, 0.3), 0px 1px 3px 1px rgba(60, 64, 67, 0.15);\n",
              "      fill: #174EA6;\n",
              "    }\n",
              "\n",
              "    .colab-df-buttons div {\n",
              "      margin-bottom: 4px;\n",
              "    }\n",
              "\n",
              "    [theme=dark] .colab-df-convert {\n",
              "      background-color: #3B4455;\n",
              "      fill: #D2E3FC;\n",
              "    }\n",
              "\n",
              "    [theme=dark] .colab-df-convert:hover {\n",
              "      background-color: #434B5C;\n",
              "      box-shadow: 0px 1px 3px 1px rgba(0, 0, 0, 0.15);\n",
              "      filter: drop-shadow(0px 1px 2px rgba(0, 0, 0, 0.3));\n",
              "      fill: #FFFFFF;\n",
              "    }\n",
              "  </style>\n",
              "\n",
              "    <script>\n",
              "      const buttonEl =\n",
              "        document.querySelector('#df-4a2cbd3e-1a43-41d3-ab8d-001af7589176 button.colab-df-convert');\n",
              "      buttonEl.style.display =\n",
              "        google.colab.kernel.accessAllowed ? 'block' : 'none';\n",
              "\n",
              "      async function convertToInteractive(key) {\n",
              "        const element = document.querySelector('#df-4a2cbd3e-1a43-41d3-ab8d-001af7589176');\n",
              "        const dataTable =\n",
              "          await google.colab.kernel.invokeFunction('convertToInteractive',\n",
              "                                                    [key], {});\n",
              "        if (!dataTable) return;\n",
              "\n",
              "        const docLinkHtml = 'Like what you see? Visit the ' +\n",
              "          '<a target=\"_blank\" href=https://colab.research.google.com/notebooks/data_table.ipynb>data table notebook</a>'\n",
              "          + ' to learn more about interactive tables.';\n",
              "        element.innerHTML = '';\n",
              "        dataTable['output_type'] = 'display_data';\n",
              "        await google.colab.output.renderOutput(dataTable, element);\n",
              "        const docLink = document.createElement('div');\n",
              "        docLink.innerHTML = docLinkHtml;\n",
              "        element.appendChild(docLink);\n",
              "      }\n",
              "    </script>\n",
              "  </div>\n",
              "\n",
              "\n",
              "    <div id=\"df-80c8574a-e3d9-4c3e-9cab-8f7f1b864baa\">\n",
              "      <button class=\"colab-df-quickchart\" onclick=\"quickchart('df-80c8574a-e3d9-4c3e-9cab-8f7f1b864baa')\"\n",
              "                title=\"Suggest charts\"\n",
              "                style=\"display:none;\">\n",
              "\n",
              "<svg xmlns=\"http://www.w3.org/2000/svg\" height=\"24px\"viewBox=\"0 0 24 24\"\n",
              "     width=\"24px\">\n",
              "    <g>\n",
              "        <path d=\"M19 3H5c-1.1 0-2 .9-2 2v14c0 1.1.9 2 2 2h14c1.1 0 2-.9 2-2V5c0-1.1-.9-2-2-2zM9 17H7v-7h2v7zm4 0h-2V7h2v10zm4 0h-2v-4h2v4z\"/>\n",
              "    </g>\n",
              "</svg>\n",
              "      </button>\n",
              "\n",
              "<style>\n",
              "  .colab-df-quickchart {\n",
              "      --bg-color: #E8F0FE;\n",
              "      --fill-color: #1967D2;\n",
              "      --hover-bg-color: #E2EBFA;\n",
              "      --hover-fill-color: #174EA6;\n",
              "      --disabled-fill-color: #AAA;\n",
              "      --disabled-bg-color: #DDD;\n",
              "  }\n",
              "\n",
              "  [theme=dark] .colab-df-quickchart {\n",
              "      --bg-color: #3B4455;\n",
              "      --fill-color: #D2E3FC;\n",
              "      --hover-bg-color: #434B5C;\n",
              "      --hover-fill-color: #FFFFFF;\n",
              "      --disabled-bg-color: #3B4455;\n",
              "      --disabled-fill-color: #666;\n",
              "  }\n",
              "\n",
              "  .colab-df-quickchart {\n",
              "    background-color: var(--bg-color);\n",
              "    border: none;\n",
              "    border-radius: 50%;\n",
              "    cursor: pointer;\n",
              "    display: none;\n",
              "    fill: var(--fill-color);\n",
              "    height: 32px;\n",
              "    padding: 0;\n",
              "    width: 32px;\n",
              "  }\n",
              "\n",
              "  .colab-df-quickchart:hover {\n",
              "    background-color: var(--hover-bg-color);\n",
              "    box-shadow: 0 1px 2px rgba(60, 64, 67, 0.3), 0 1px 3px 1px rgba(60, 64, 67, 0.15);\n",
              "    fill: var(--button-hover-fill-color);\n",
              "  }\n",
              "\n",
              "  .colab-df-quickchart-complete:disabled,\n",
              "  .colab-df-quickchart-complete:disabled:hover {\n",
              "    background-color: var(--disabled-bg-color);\n",
              "    fill: var(--disabled-fill-color);\n",
              "    box-shadow: none;\n",
              "  }\n",
              "\n",
              "  .colab-df-spinner {\n",
              "    border: 2px solid var(--fill-color);\n",
              "    border-color: transparent;\n",
              "    border-bottom-color: var(--fill-color);\n",
              "    animation:\n",
              "      spin 1s steps(1) infinite;\n",
              "  }\n",
              "\n",
              "  @keyframes spin {\n",
              "    0% {\n",
              "      border-color: transparent;\n",
              "      border-bottom-color: var(--fill-color);\n",
              "      border-left-color: var(--fill-color);\n",
              "    }\n",
              "    20% {\n",
              "      border-color: transparent;\n",
              "      border-left-color: var(--fill-color);\n",
              "      border-top-color: var(--fill-color);\n",
              "    }\n",
              "    30% {\n",
              "      border-color: transparent;\n",
              "      border-left-color: var(--fill-color);\n",
              "      border-top-color: var(--fill-color);\n",
              "      border-right-color: var(--fill-color);\n",
              "    }\n",
              "    40% {\n",
              "      border-color: transparent;\n",
              "      border-right-color: var(--fill-color);\n",
              "      border-top-color: var(--fill-color);\n",
              "    }\n",
              "    60% {\n",
              "      border-color: transparent;\n",
              "      border-right-color: var(--fill-color);\n",
              "    }\n",
              "    80% {\n",
              "      border-color: transparent;\n",
              "      border-right-color: var(--fill-color);\n",
              "      border-bottom-color: var(--fill-color);\n",
              "    }\n",
              "    90% {\n",
              "      border-color: transparent;\n",
              "      border-bottom-color: var(--fill-color);\n",
              "    }\n",
              "  }\n",
              "</style>\n",
              "\n",
              "      <script>\n",
              "        async function quickchart(key) {\n",
              "          const quickchartButtonEl =\n",
              "            document.querySelector('#' + key + ' button');\n",
              "          quickchartButtonEl.disabled = true;  // To prevent multiple clicks.\n",
              "          quickchartButtonEl.classList.add('colab-df-spinner');\n",
              "          try {\n",
              "            const charts = await google.colab.kernel.invokeFunction(\n",
              "                'suggestCharts', [key], {});\n",
              "          } catch (error) {\n",
              "            console.error('Error during call to suggestCharts:', error);\n",
              "          }\n",
              "          quickchartButtonEl.classList.remove('colab-df-spinner');\n",
              "          quickchartButtonEl.classList.add('colab-df-quickchart-complete');\n",
              "        }\n",
              "        (() => {\n",
              "          let quickchartButtonEl =\n",
              "            document.querySelector('#df-80c8574a-e3d9-4c3e-9cab-8f7f1b864baa button');\n",
              "          quickchartButtonEl.style.display =\n",
              "            google.colab.kernel.accessAllowed ? 'block' : 'none';\n",
              "        })();\n",
              "      </script>\n",
              "    </div>\n",
              "\n",
              "    </div>\n",
              "  </div>\n"
            ],
            "application/vnd.google.colaboratory.intrinsic+json": {
              "type": "dataframe",
              "summary": "{\n  \"name\": \"train\",\n  \"rows\": 5,\n  \"fields\": [\n    {\n      \"column\": \"id\",\n      \"properties\": {\n        \"dtype\": \"number\",\n        \"std\": 1,\n        \"min\": 0,\n        \"max\": 4,\n        \"num_unique_values\": 5,\n        \"samples\": [\n          1,\n          4,\n          2\n        ],\n        \"semantic_type\": \"\",\n        \"description\": \"\"\n      }\n    },\n    {\n      \"column\": \"brand\",\n      \"properties\": {\n        \"dtype\": \"string\",\n        \"num_unique_values\": 5,\n        \"samples\": [\n          \"Lincoln\",\n          \"Mercedes-Benz\",\n          \"Chevrolet\"\n        ],\n        \"semantic_type\": \"\",\n        \"description\": \"\"\n      }\n    },\n    {\n      \"column\": \"model\",\n      \"properties\": {\n        \"dtype\": \"string\",\n        \"num_unique_values\": 5,\n        \"samples\": [\n          \"LS V8\",\n          \"Metris Base\",\n          \"Silverado 2500 LT\"\n        ],\n        \"semantic_type\": \"\",\n        \"description\": \"\"\n      }\n    },\n    {\n      \"column\": \"model_year\",\n      \"properties\": {\n        \"dtype\": \"number\",\n        \"std\": 8,\n        \"min\": 2002,\n        \"max\": 2021,\n        \"num_unique_values\": 4,\n        \"samples\": [\n          2002,\n          2021,\n          2007\n        ],\n        \"semantic_type\": \"\",\n        \"description\": \"\"\n      }\n    },\n    {\n      \"column\": \"milage\",\n      \"properties\": {\n        \"dtype\": \"number\",\n        \"std\": 87987,\n        \"min\": 7388,\n        \"max\": 213000,\n        \"num_unique_values\": 5,\n        \"samples\": [\n          143250,\n          7388,\n          136731\n        ],\n        \"semantic_type\": \"\",\n        \"description\": \"\"\n      }\n    },\n    {\n      \"column\": \"fuel_type\",\n      \"properties\": {\n        \"dtype\": \"category\",\n        \"num_unique_values\": 2,\n        \"samples\": [\n          \"E85 Flex Fuel\",\n          \"Gasoline\"\n        ],\n        \"semantic_type\": \"\",\n        \"description\": \"\"\n      }\n    },\n    {\n      \"column\": \"engine\",\n      \"properties\": {\n        \"dtype\": \"string\",\n        \"num_unique_values\": 5,\n        \"samples\": [\n          \"252.0HP 3.9L 8 Cylinder Engine Gasoline Fuel\",\n          \"208.0HP 2.0L 4 Cylinder Engine Gasoline Fuel\"\n        ],\n        \"semantic_type\": \"\",\n        \"description\": \"\"\n      }\n    },\n    {\n      \"column\": \"transmission\",\n      \"properties\": {\n        \"dtype\": \"string\",\n        \"num_unique_values\": 3,\n        \"samples\": [\n          \"A/T\",\n          \"Transmission w/Dual Shift Mode\"\n        ],\n        \"semantic_type\": \"\",\n        \"description\": \"\"\n      }\n    },\n    {\n      \"column\": \"ext_col\",\n      \"properties\": {\n        \"dtype\": \"string\",\n        \"num_unique_values\": 4,\n        \"samples\": [\n          \"Silver\",\n          \"Black\"\n        ],\n        \"semantic_type\": \"\",\n        \"description\": \"\"\n      }\n    },\n    {\n      \"column\": \"int_col\",\n      \"properties\": {\n        \"dtype\": \"string\",\n        \"num_unique_values\": 3,\n        \"samples\": [\n          \"Gray\",\n          \"Beige\"\n        ],\n        \"semantic_type\": \"\",\n        \"description\": \"\"\n      }\n    },\n    {\n      \"column\": \"accident\",\n      \"properties\": {\n        \"dtype\": \"category\",\n        \"num_unique_values\": 2,\n        \"samples\": [\n          \"At least 1 accident or damage reported\",\n          \"None reported\"\n        ],\n        \"semantic_type\": \"\",\n        \"description\": \"\"\n      }\n    },\n    {\n      \"column\": \"clean_title\",\n      \"properties\": {\n        \"dtype\": \"category\",\n        \"num_unique_values\": 1,\n        \"samples\": [\n          \"Yes\"\n        ],\n        \"semantic_type\": \"\",\n        \"description\": \"\"\n      }\n    },\n    {\n      \"column\": \"price\",\n      \"properties\": {\n        \"dtype\": \"number\",\n        \"std\": 39631,\n        \"min\": 4200,\n        \"max\": 97500,\n        \"num_unique_values\": 5,\n        \"samples\": [\n          4999\n        ],\n        \"semantic_type\": \"\",\n        \"description\": \"\"\n      }\n    }\n  ]\n}"
            }
          },
          "metadata": {}
        },
        {
          "output_type": "stream",
          "name": "stdout",
          "text": [
            "<class 'pandas.core.frame.DataFrame'>\n",
            "RangeIndex: 188533 entries, 0 to 188532\n",
            "Data columns (total 13 columns):\n",
            " #   Column        Non-Null Count   Dtype \n",
            "---  ------        --------------   ----- \n",
            " 0   id            188533 non-null  int64 \n",
            " 1   brand         188533 non-null  object\n",
            " 2   model         188533 non-null  object\n",
            " 3   model_year    188533 non-null  int64 \n",
            " 4   milage        188533 non-null  int64 \n",
            " 5   fuel_type     183450 non-null  object\n",
            " 6   engine        188533 non-null  object\n",
            " 7   transmission  188533 non-null  object\n",
            " 8   ext_col       188533 non-null  object\n",
            " 9   int_col       188533 non-null  object\n",
            " 10  accident      186081 non-null  object\n",
            " 11  clean_title   167114 non-null  object\n",
            " 12  price         188533 non-null  int64 \n",
            "dtypes: int64(4), object(9)\n",
            "memory usage: 18.7+ MB\n"
          ]
        }
      ]
    },
    {
      "cell_type": "code",
      "source": [
        "## 3.2 Target distribution\n",
        "plt.figure(figsize=(8,4))\n",
        "sns.histplot(train['price'], bins=40, kde=True)\n",
        "plt.title(\"Distribution of Car Prices\")\n",
        "plt.show()\n",
        "\n",
        "\n"
      ],
      "metadata": {
        "colab": {
          "base_uri": "https://localhost:8080/",
          "height": 410
        },
        "id": "ZG2CahIu1y1g",
        "outputId": "e1417b08-f62c-44fd-9e31-ce3b2f2de8ec"
      },
      "execution_count": 10,
      "outputs": [
        {
          "output_type": "display_data",
          "data": {
            "text/plain": [
              "<Figure size 800x400 with 1 Axes>"
            ],
            "image/png": "[encoded data removed]"
          },
          "metadata": {}
        }
      ]
    },
    {
      "cell_type": "code",
      "source": [
        "## 3.3 Missing values\n",
        "missing = train.isnull().sum().sort_values(ascending=False)\n",
        "print(\"Missing values:\\n\", missing[missing>0])\n",
        "\n"
      ],
      "metadata": {
        "colab": {
          "base_uri": "https://localhost:8080/"
        },
        "id": "IVZPXYVA116s",
        "outputId": "f7cf87b6-c0a5-4d81-901c-eb51fcfe0724"
      },
      "execution_count": 11,
      "outputs": [
        {
          "output_type": "stream",
          "name": "stdout",
          "text": [
            "Missing values:\n",
            " clean_title    21419\n",
            "fuel_type       5083\n",
            "accident        2452\n",
            "dtype: int64\n"
          ]
        }
      ]
    },
    {
      "cell_type": "code",
      "source": [
        "## 3.4 Unique counts\n",
        "print(\"\\nUnique values per column:\\n\", train.nunique())\n",
        "\n"
      ],
      "metadata": {
        "colab": {
          "base_uri": "https://localhost:8080/"
        },
        "id": "B6QxkDgP148m",
        "outputId": "a90e4551-5fb0-4534-c4cd-49c9c91d5650"
      },
      "execution_count": 12,
      "outputs": [
        {
          "output_type": "stream",
          "name": "stdout",
          "text": [
            "\n",
            "Unique values per column:\n",
            " id              188533\n",
            "brand               57\n",
            "model             1897\n",
            "model_year          34\n",
            "milage            6651\n",
            "fuel_type            7\n",
            "engine            1117\n",
            "transmission        52\n",
            "ext_col            319\n",
            "int_col            156\n",
            "accident             2\n",
            "clean_title          1\n",
            "price             1569\n",
            "dtype: int64\n"
          ]
        }
      ]
    },
    {
      "cell_type": "code",
      "source": [
        "## 3.5 Correlation heatmap (numerical only)\n",
        "plt.figure(figsize=(10,6))\n",
        "sns.heatmap(train.corr(numeric_only=True), cmap=\"coolwarm\", annot=False)\n",
        "plt.title(\"Correlation Heatmap\")\n",
        "plt.show()"
      ],
      "metadata": {
        "colab": {
          "base_uri": "https://localhost:8080/",
          "height": 545
        },
        "id": "ihcx6o2B1-NF",
        "outputId": "7c097e7d-e043-41e1-cc5f-fbeaa4d6167f"
      },
      "execution_count": 13,
      "outputs": [
        {
          "output_type": "display_data",
          "data": {
            "text/plain": [
              "<Figure size 1000x600 with 2 Axes>"
            ],
            "image/png": "[encoded data removed]"
          },
          "metadata": {}
        }
      ]
    },
    {
      "cell_type": "markdown",
      "source": [
        "\n",
        "# 4. Preprocessing & Feature Engineering\n",
        "\n"
      ],
      "metadata": {
        "id": "1NIOO193zD46"
      }
    },
    {
      "cell_type": "code",
      "source": [
        "target = 'price'\n",
        "X = train.drop(columns=[target, 'id', 'clean_title'])\n",
        "y = train[target]\n",
        "X_test = test.drop(columns=['id', 'clean_title'])\n",
        "\n",
        "# Categorical / numerical\n",
        "cat_cols = X.select_dtypes(include=['object']).columns.tolist()\n",
        "num_cols = X.select_dtypes(exclude=['object']).columns.tolist()\n",
        "\n",
        "# Fill categorical NaN\n",
        "for col in cat_cols:\n",
        "    X[col] = X[col].fillna('Unknown').astype(str)\n",
        "    X_test[col] = X_test[col].fillna('Unknown').astype(str)\n",
        "\n",
        "# Fuel type fix\n",
        "if 'fuel_type' in X.columns:\n",
        "    X['fuel_type'] = X['fuel_type'].replace('-', 'Unknown')\n",
        "    X_test['fuel_type'] = X_test['fuel_type'].replace('-', 'Unknown')\n",
        "\n",
        "# Frequency encode brand\n",
        "def freq_encode(col, X, X_test):\n",
        "    freq = X[col].value_counts(normalize=True)\n",
        "    smoothing = 0.1\n",
        "    global_mean = freq.mean()\n",
        "    X[col+\"_freq\"] = X[col].map(freq) * (1-smoothing) + smoothing*global_mean\n",
        "    X_test[col+\"_freq\"] = X_test[col].map(freq).fillna(global_mean) * (1-smoothing) + smoothing*global_mean\n",
        "    return X, X_test\n",
        "\n",
        "if 'brand' in X.columns:\n",
        "    X, X_test = freq_encode('brand', X, X_test)\n",
        "    cat_cols.remove('brand')\n",
        "    num_cols.append('brand_freq')\n",
        "\n",
        "# Extra engineered features\n",
        "def extract_features(df):\n",
        "    df['HP'] = df['engine'].str.extract(r'(\\d+\\.?\\d*)HP').astype(float)\n",
        "    df['Liter'] = df['engine'].str.extract(r'(\\d+\\.?\\d*)L').astype(float)\n",
        "    df['Cylinder'] = df['engine'].str.extract(r'(\\d+) Cylinder').astype(float)\n",
        "    df['Turbo'] = df['engine'].str.contains('Turbo', case=False, na=False).astype(int)\n",
        "    df['Speed'] = df['transmission'].str.extract(r'(\\d+)-Speed').astype(float)\n",
        "    df['Auto'] = df['transmission'].str.contains('A/T|Automatic|Auto', case=False, na=False).astype(int)\n",
        "    df['Manual'] = df['transmission'].str.contains('M/T|Manual', case=False, na=False).astype(int)\n",
        "    current_year = 2025\n",
        "    df['age'] = current_year - df['model_year']\n",
        "    df['milage_per_year'] = df['milage'] / (df['age']+1e-5)\n",
        "    df['log_milage'] = np.log1p(df['milage'])\n",
        "    df['age_log_milage'] = df['age'] * df['log_milage']\n",
        "    return df.drop(columns=['engine','transmission'])\n",
        "\n",
        "X = extract_features(X)\n",
        "X_test = extract_features(X_test)\n",
        "\n",
        "# Update cols\n",
        "cat_cols = X.select_dtypes(include=['object']).columns.tolist()\n",
        "num_cols = X.select_dtypes(exclude=['object']).columns.tolist()\n",
        "\n",
        "# Fill numerical NaN with median\n",
        "for col in num_cols:\n",
        "    med = X[col].median()\n",
        "    X[col] = X[col].fillna(med)\n",
        "    X_test[col] = X_test[col].fillna(med)\n"
      ],
      "metadata": {
        "id": "9Npu7v-9zCKz"
      },
      "execution_count": 14,
      "outputs": []
    },
    {
      "cell_type": "markdown",
      "source": [
        "\n",
        "\n",
        "# 5. Model Training with Optuna\n",
        "\n"
      ],
      "metadata": {
        "id": "yVvvCUpnzlEl"
      }
    },
    {
      "cell_type": "code",
      "source": [
        "def objective(trial):\n",
        "    params = {\n",
        "        'iterations': 600,\n",
        "        'depth': trial.suggest_int('depth', 5, 7),\n",
        "        'learning_rate': trial.suggest_float('learning_rate', 0.05, 0.15),\n",
        "        'random_strength': trial.suggest_float('random_strength', 1, 3),\n",
        "        'bagging_temperature': trial.suggest_float('bagging_temperature', 0.5, 2),\n",
        "        'border_count': 128,\n",
        "        'l2_leaf_reg': trial.suggest_float('l2_leaf_reg', 3, 6),\n",
        "        'colsample_bylevel': trial.suggest_float('colsample_bylevel', 0.7, 1.0),\n",
        "        'min_data_in_leaf': trial.suggest_int('min_data_in_leaf', 20, 100),\n",
        "        'subsample': trial.suggest_float('subsample', 0.7, 1.0),\n",
        "        'one_hot_max_size': 10,\n",
        "        'grow_policy': 'Depthwise',\n",
        "        'loss_function': 'RMSE',\n",
        "        'task_type': 'CPU',\n",
        "        'verbose': 0,\n",
        "        'random_seed': 42\n",
        "    }\n",
        "    X_train, X_val, y_train, y_val = train_test_split(X, y, test_size=0.2, random_state=42)\n",
        "    train_pool = Pool(X_train, y_train, cat_features=cat_cols)\n",
        "    val_pool = Pool(X_val, y_val, cat_features=cat_cols)\n",
        "    model = CatBoostRegressor(**params)\n",
        "    model.fit(train_pool, eval_set=val_pool, early_stopping_rounds=50, verbose=0)\n",
        "    preds = model.predict(val_pool)\n",
        "    return np.sqrt(mean_squared_error(y_val, preds))\n",
        "\n",
        "study = optuna.create_study(direction='minimize', sampler=optuna.samplers.TPESampler(seed=42))\n",
        "study.optimize(objective, n_trials=18)\n",
        "\n"
      ],
      "metadata": {
        "colab": {
          "base_uri": "https://localhost:8080/"
        },
        "id": "ZduI0iXBzq8v",
        "outputId": "192a232b-6b9e-456f-c402-3d9c42444445"
      },
      "execution_count": 15,
      "outputs": [
        {
          "output_type": "stream",
          "name": "stderr",
          "text": [
            "[I 2025-09-14 20:17:13,535] A new study created in memory with name: no-name-983272ab-81af-4850-ac50-f600f77c903f\n",
            "[I 2025-09-14 20:17:31,691] Trial 0 finished with value: 68188.99147977431 and parameters: {'depth': 6, 'learning_rate': 0.1450714306409916, 'random_strength': 2.46398788362281, 'bagging_temperature': 1.397987726295555, 'l2_leaf_reg': 3.4680559213273097, 'colsample_bylevel': 0.7467983561008608, 'min_data_in_leaf': 24, 'subsample': 0.9598528437324805}. Best is trial 0 with value: 68188.99147977431.\n",
            "[I 2025-09-14 20:17:45,850] Trial 1 finished with value: 68124.84987383851 and parameters: {'depth': 6, 'learning_rate': 0.12080725777960455, 'random_strength': 1.041168988591605, 'bagging_temperature': 1.9548647782429915, 'l2_leaf_reg': 5.497327922401265, 'colsample_bylevel': 0.7637017332034828, 'min_data_in_leaf': 34, 'subsample': 0.7550213529560301}. Best is trial 1 with value: 68124.84987383851.\n",
            "[I 2025-09-14 20:18:11,826] Trial 2 finished with value: 68161.40118561927 and parameters: {'depth': 5, 'learning_rate': 0.10247564316322377, 'random_strength': 1.8638900372842315, 'bagging_temperature': 0.9368437102970628, 'l2_leaf_reg': 4.835558684167138, 'colsample_bylevel': 0.7418481581956126, 'min_data_in_leaf': 43, 'subsample': 0.8099085529881075}. Best is trial 1 with value: 68124.84987383851.\n",
            "[I 2025-09-14 20:18:32,244] Trial 3 finished with value: 68063.88956471483 and parameters: {'depth': 6, 'learning_rate': 0.12851759613930136, 'random_strength': 1.3993475643167195, 'bagging_temperature': 1.2713516576204174, 'l2_leaf_reg': 4.777243706586127, 'colsample_bylevel': 0.7139351238159993, 'min_data_in_leaf': 69, 'subsample': 0.7511572371061874}. Best is trial 3 with value: 68063.88956471483.\n",
            "[I 2025-09-14 20:18:53,140] Trial 4 finished with value: 68127.51635179867 and parameters: {'depth': 5, 'learning_rate': 0.14488855372533332, 'random_strength': 2.9312640661491187, 'bagging_temperature': 1.7125960221746916, 'l2_leaf_reg': 3.913841307520112, 'colsample_bylevel': 0.7293016342019151, 'min_data_in_leaf': 75, 'subsample': 0.8320457481218804}. Best is trial 3 with value: 68063.88956471483.\n",
            "[I 2025-09-14 20:19:14,985] Trial 5 finished with value: 68211.25000215981 and parameters: {'depth': 5, 'learning_rate': 0.09951769101112701, 'random_strength': 1.0687770422304368, 'bagging_temperature': 1.8639806031181732, 'l2_leaf_reg': 3.7763399448000508, 'colsample_bylevel': 0.8987566853061946, 'min_data_in_leaf': 45, 'subsample': 0.8560204063533432}. Best is trial 3 with value: 68063.88956471483.\n",
            "[I 2025-09-14 20:20:06,966] Trial 6 finished with value: 68107.46315454855 and parameters: {'depth': 6, 'learning_rate': 0.0684854455525527, 'random_strength': 2.939169255529117, 'bagging_temperature': 1.6626992350416718, 'l2_leaf_reg': 5.818496824692567, 'colsample_bylevel': 0.9684482051282947, 'min_data_in_leaf': 68, 'subsample': 0.976562270506935}. Best is trial 3 with value: 68063.88956471483.\n",
            "[I 2025-09-14 20:20:35,682] Trial 7 finished with value: 68062.16851235392 and parameters: {'depth': 5, 'learning_rate': 0.06959828624191453, 'random_strength': 1.0904545778210761, 'bagging_temperature': 0.9879954961448965, 'l2_leaf_reg': 4.166031869068446, 'colsample_bylevel': 0.7814047095321688, 'min_data_in_leaf': 87, 'subsample': 0.8070259980080767}. Best is trial 7 with value: 68062.16851235392.\n",
            "[I 2025-09-14 20:21:05,889] Trial 8 finished with value: 68179.02500135006 and parameters: {'depth': 5, 'learning_rate': 0.10426960831582485, 'random_strength': 1.2818484499495253, 'bagging_temperature': 1.7032954711310595, 'l2_leaf_reg': 3.2236519310393126, 'colsample_bylevel': 0.9960660809801551, 'min_data_in_leaf': 82, 'subsample': 0.7596147044602517}. Best is trial 7 with value: 68062.16851235392.\n",
            "[I 2025-09-14 20:21:29,358] Trial 9 finished with value: 68075.56522589059 and parameters: {'depth': 5, 'learning_rate': 0.1315461428454834, 'random_strength': 2.4137146876952342, 'bagging_temperature': 1.5935107520614809, 'l2_leaf_reg': 5.313811040057837, 'colsample_bylevel': 0.7222133955202271, 'min_data_in_leaf': 49, 'subsample': 0.7347607178575388}. Best is trial 7 with value: 68062.16851235392.\n",
            "[I 2025-09-14 20:22:22,386] Trial 10 finished with value: 68071.82617263806 and parameters: {'depth': 7, 'learning_rate': 0.05059971829558172, 'random_strength': 1.7374575454421948, 'bagging_temperature': 0.5269428134222295, 'l2_leaf_reg': 4.261212024553193, 'colsample_bylevel': 0.8140878880755431, 'min_data_in_leaf': 98, 'subsample': 0.9029717139228339}. Best is trial 7 with value: 68062.16851235392.\n",
            "[I 2025-09-14 20:22:47,133] Trial 11 finished with value: 68078.03604488196 and parameters: {'depth': 7, 'learning_rate': 0.08058000718764859, 'random_strength': 1.492029661933727, 'bagging_temperature': 1.0341368350024904, 'l2_leaf_reg': 4.690827034565268, 'colsample_bylevel': 0.8061684587715756, 'min_data_in_leaf': 90, 'subsample': 0.7140620125090469}. Best is trial 7 with value: 68062.16851235392.\n",
            "[I 2025-09-14 20:23:22,478] Trial 12 finished with value: 68117.29462635072 and parameters: {'depth': 6, 'learning_rate': 0.07963578264904551, 'random_strength': 1.499515186940205, 'bagging_temperature': 1.0980357757133739, 'l2_leaf_reg': 4.376593757982939, 'colsample_bylevel': 0.8583336679090096, 'min_data_in_leaf': 64, 'subsample': 0.7847722002804394}. Best is trial 7 with value: 68062.16851235392.\n",
            "[I 2025-09-14 20:24:03,970] Trial 13 finished with value: 68075.21617989469 and parameters: {'depth': 6, 'learning_rate': 0.05335858849344722, 'random_strength': 1.3928090585289072, 'bagging_temperature': 0.7651282124301502, 'l2_leaf_reg': 5.018687243802665, 'colsample_bylevel': 0.7005416493943449, 'min_data_in_leaf': 82, 'subsample': 0.8740098159621559}. Best is trial 7 with value: 68062.16851235392.\n",
            "[I 2025-09-14 20:24:22,535] Trial 14 finished with value: 68121.17106650175 and parameters: {'depth': 7, 'learning_rate': 0.11843360200566583, 'random_strength': 1.2190334382103267, 'bagging_temperature': 1.3025555132645388, 'l2_leaf_reg': 4.135625646498627, 'colsample_bylevel': 0.7910338902665673, 'min_data_in_leaf': 57, 'subsample': 0.7024416656819296}. Best is trial 7 with value: 68062.16851235392.\n",
            "[I 2025-09-14 20:24:51,687] Trial 15 finished with value: 68136.85657311637 and parameters: {'depth': 5, 'learning_rate': 0.0863251734288559, 'random_strength': 2.119322728035489, 'bagging_temperature': 0.7676196101214932, 'l2_leaf_reg': 5.114781247804532, 'colsample_bylevel': 0.849040808372766, 'min_data_in_leaf': 100, 'subsample': 0.7897731137391247}. Best is trial 7 with value: 68062.16851235392.\n",
            "[I 2025-09-14 20:25:30,507] Trial 16 finished with value: 68078.768160823 and parameters: {'depth': 6, 'learning_rate': 0.06620064533574901, 'random_strength': 1.6409524207082893, 'bagging_temperature': 1.4398883075838709, 'l2_leaf_reg': 4.572271478622372, 'colsample_bylevel': 0.775383950433732, 'min_data_in_leaf': 74, 'subsample': 0.8918405398812633}. Best is trial 7 with value: 68062.16851235392.\n",
            "[I 2025-09-14 20:25:54,100] Trial 17 finished with value: 68232.70707442742 and parameters: {'depth': 7, 'learning_rate': 0.12990386883466198, 'random_strength': 2.1250257140506825, 'bagging_temperature': 1.2472165203986623, 'l2_leaf_reg': 3.0085778366994553, 'colsample_bylevel': 0.8484987052203591, 'min_data_in_leaf': 87, 'subsample': 0.8332856571204657}. Best is trial 7 with value: 68062.16851235392.\n"
          ]
        }
      ]
    },
    {
      "cell_type": "markdown",
      "source": [
        "\n",
        "# 6. Validation Performance\n",
        "\n"
      ],
      "metadata": {
        "id": "w8m5aF0Rz0fg"
      }
    },
    {
      "cell_type": "code",
      "source": [
        "X_train, X_val, y_train, y_val = train_test_split(X, y, test_size=0.2, random_state=42)\n",
        "train_pool = Pool(X_train, y_train, cat_features=cat_cols)\n",
        "val_pool = Pool(X_val, y_val, cat_features=cat_cols)\n",
        "model = CatBoostRegressor(**study.best_params, task_type='CPU', verbose=0)\n",
        "model.fit(train_pool, eval_set=val_pool, early_stopping_rounds=50)\n",
        "\n",
        "preds = model.predict(val_pool)\n",
        "rmse = np.sqrt(mean_squared_error(y_val, preds))\n",
        "print(f\"Validation RMSE: {rmse:.4f}\")\n",
        "\n"
      ],
      "metadata": {
        "colab": {
          "base_uri": "https://localhost:8080/"
        },
        "id": "tVy57Ad8z68S",
        "outputId": "23a0389f-2b96-438a-e7b6-49a27782f937"
      },
      "execution_count": 16,
      "outputs": [
        {
          "output_type": "stream",
          "name": "stdout",
          "text": [
            "Validation RMSE: 68019.2921\n"
          ]
        }
      ]
    },
    {
      "cell_type": "markdown",
      "source": [
        "\n",
        "# 7. Feature Importance\n",
        "\n"
      ],
      "metadata": {
        "id": "fLHJnnB_0A_N"
      }
    },
    {
      "cell_type": "code",
      "source": [
        "importances = model.get_feature_importance(train_pool)\n",
        "feat_names = X_train.columns\n",
        "\n",
        "feat_imp = pd.DataFrame({\n",
        "    'Feature': feat_names,\n",
        "    'Importance': importances\n",
        "}).sort_values(by='Importance', ascending=False)\n",
        "\n",
        "plt.figure(figsize=(10,6))\n",
        "sns.barplot(data=feat_imp.head(20), x='Importance', y='Feature', palette='viridis')\n",
        "plt.title(\"Top 20 Feature Importances (CatBoost)\")\n",
        "plt.show()\n",
        "\n"
      ],
      "metadata": {
        "colab": {
          "base_uri": "https://localhost:8080/",
          "height": 651
        },
        "id": "a7AuJNe30GtJ",
        "outputId": "4a7dd87e-5448-4111-d0ff-9de59dca5c93"
      },
      "execution_count": 17,
      "outputs": [
        {
          "output_type": "stream",
          "name": "stderr",
          "text": [
            "/tmp/ipython-input-1074523287.py:10: FutureWarning: \n",
            "\n",
            "Passing `palette` without assigning `hue` is deprecated and will be removed in v0.14.0. Assign the `y` variable to `hue` and set `legend=False` for the same effect.\n",
            "\n",
            "  sns.barplot(data=feat_imp.head(20), x='Importance', y='Feature', palette='viridis')\n"
          ]
        },
        {
          "output_type": "display_data",
          "data": {
            "text/plain": [
              "<Figure size 1000x600 with 1 Axes>"
            ],
            "image/png": "[encoded data removed]"
          },
          "metadata": {}
        }
      ]
    },
    {
      "cell_type": "markdown",
      "source": [
        "\n",
        "# 8. Final Model & Submission\n",
        "\n",
        "\n"
      ],
      "metadata": {
        "id": "V2e5w3uT1ogU"
      }
    },
    {
      "cell_type": "code",
      "source": [
        "final_params = study.best_params\n",
        "final_params.update({'loss_function':'RMSE','task_type':'CPU','verbose':100})\n",
        "\n",
        "train_pool = Pool(X, y, cat_features=cat_cols)\n",
        "test_pool = Pool(X_test, cat_features=cat_cols)\n",
        "\n",
        "final_model = CatBoostRegressor(**final_params)\n",
        "final_model.fit(train_pool)\n",
        "\n",
        "submission[target] = final_model.predict(test_pool)\n",
        "submission.to_csv('submission_enhanced_plus.csv', index=False)\n",
        "files.download('submission_enhanced_plus.csv')\n",
        "print(\" Submission saved as submission_enhanced_plus.csv\")"
      ],
      "metadata": {
        "colab": {
          "base_uri": "https://localhost:8080/",
          "height": 225
        },
        "id": "CDMVOP1W0avf",
        "outputId": "63ef4e3a-52ac-42e1-8e1b-f1b375e9335c"
      },
      "execution_count": 19,
      "outputs": [
        {
          "output_type": "stream",
          "name": "stdout",
          "text": [
            "0:\tlearn: 78223.7923310\ttotal: 321ms\tremaining: 5m 20s\n",
            "100:\tlearn: 72735.6468329\ttotal: 17.7s\tremaining: 2m 37s\n",
            "200:\tlearn: 72423.3100470\ttotal: 33.3s\tremaining: 2m 12s\n",
            "300:\tlearn: 72204.0690873\ttotal: 49.6s\tremaining: 1m 55s\n",
            "400:\tlearn: 71973.1755518\ttotal: 1m 5s\tremaining: 1m 37s\n",
            "500:\tlearn: 71739.0769282\ttotal: 1m 21s\tremaining: 1m 20s\n",
            "600:\tlearn: 71518.3072076\ttotal: 1m 38s\tremaining: 1m 5s\n",
            "700:\tlearn: 71353.4965467\ttotal: 1m 56s\tremaining: 49.5s\n",
            "800:\tlearn: 71188.8154053\ttotal: 2m 12s\tremaining: 32.8s\n",
            "900:\tlearn: 70992.0000422\ttotal: 2m 29s\tremaining: 16.4s\n",
            "999:\tlearn: 70846.8340712\ttotal: 2m 46s\tremaining: 0us\n"
          ]
        },
        {
          "output_type": "display_data",
          "data": {
            "text/plain": [
              "<IPython.core.display.Javascript object>"
            ],
            "application/javascript": [
              "\n",
              "    async function download(id, filename, size) {\n",
              "      if (!google.colab.kernel.accessAllowed) {\n",
              "        return;\n",
              "      }\n",
              "      const div = document.createElement('div');\n",
              "      const label = document.createElement('label');\n",
              "      label.textContent = `Downloading \"${filename}\": `;\n",
              "      div.appendChild(label);\n",
              "      const progress = document.createElement('progress');\n",
              "      progress.max = size;\n",
              "      div.appendChild(progress);\n",
              "      document.body.appendChild(div);\n",
              "\n",
              "      const buffers = [];\n",
              "      let downloaded = 0;\n",
              "\n",
              "      const channel = await google.colab.kernel.comms.open(id);\n",
              "      // Send a message to notify the kernel that we're ready.\n",
              "      channel.send({})\n",
              "\n",
              "      for await (const message of channel.messages) {\n",
              "        // Send a message to notify the kernel that we're ready.\n",
              "        channel.send({})\n",
              "        if (message.buffers) {\n",
              "          for (const buffer of message.buffers) {\n",
              "            buffers.push(buffer);\n",
              "            downloaded += buffer.byteLength;\n",
              "            progress.value = downloaded;\n",
              "          }\n",
              "        }\n",
              "      }\n",
              "      const blob = new Blob(buffers, {type: 'application/binary'});\n",
              "      const a = document.createElement('a');\n",
              "      a.href = window.URL.createObjectURL(blob);\n",
              "      a.download = filename;\n",
              "      div.appendChild(a);\n",
              "      a.click();\n",
              "      div.remove();\n",
              "    }\n",
              "  "
            ]
          },
          "metadata": {}
        },
        {
          "output_type": "display_data",
          "data": {
            "text/plain": [
              "<IPython.core.display.Javascript object>"
            ],
            "application/javascript": [
              "download(\"download_fffa227b-867f-44c8-ba0f-9c09c43f3670\", \"submission_enhanced_plus.csv\", 3185435)"
            ]
          },
          "metadata": {}
        },
        {
          "output_type": "stream",
          "name": "stdout",
          "text": [
            " Submission saved as submission_enhanced_plus.csv\n"
          ]
        }
      ]
    },
    {
      "cell_type": "code",
      "source": [],
      "metadata": {
        "id": "G9SFtf1e7Te8"
      },
      "execution_count": null,
      "outputs": []
    }
  ]
}